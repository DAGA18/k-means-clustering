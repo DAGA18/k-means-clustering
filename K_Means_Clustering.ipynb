{
  "nbformat": 4,
  "nbformat_minor": 0,
  "metadata": {
    "kernelspec": {
      "display_name": "Python 3",
      "language": "python",
      "name": "python3"
    },
    "language_info": {
      "codemirror_mode": {
        "name": "ipython",
        "version": 3
      },
      "file_extension": ".py",
      "mimetype": "text/x-python",
      "name": "python",
      "nbconvert_exporter": "python",
      "pygments_lexer": "ipython3",
      "version": "3.6.1"
    },
    "colab": {
      "name": "K-Means Clustering.ipynb",
      "provenance": []
    }
  },
  "cells": [
    {
      "cell_type": "code",
      "metadata": {
        "id": "9UnaKw5F3kGV"
      },
      "source": [
        "import numpy as np\n",
        "from matplotlib import pyplot as plt\n",
        "from sklearn.datasets import make_blobs\n",
        "import sklearn"
      ],
      "execution_count": 22,
      "outputs": []
    },
    {
      "cell_type": "code",
      "metadata": {
        "id": "BTpfmTr13kGX"
      },
      "source": [
        "\n",
        "X,y  = make_blobs(n_samples=500,n_features=2,centers=5,random_state=3)"
      ],
      "execution_count": 23,
      "outputs": []
    },
    {
      "cell_type": "code",
      "metadata": {
        "colab": {
          "base_uri": "https://localhost:8080/",
          "height": 265
        },
        "id": "1OxnhvEf3kGX",
        "outputId": "30bfcbab-525f-466f-a8b7-3ddd75c0e3c2"
      },
      "source": [
        "plt.figure(0)\n",
        "plt.grid(True)\n",
        "plt.scatter(X[:,0],X[:,1])\n",
        "plt.show()"
      ],
      "execution_count": 24,
      "outputs": [
        {
          "output_type": "display_data",
          "data": {
            "image/png": "[encoded data removed]",
            "text/plain": [
              "<Figure size 432x288 with 1 Axes>"
            ]
          },
          "metadata": {
            "tags": [],
            "needs_background": "light"
          }
        }
      ]
    },
    {
      "cell_type": "code",
      "metadata": {
        "id": "pZdmGyfC3kGY"
      },
      "source": [
        "k = 5\n",
        "\n",
        "color  = [\"green\",\"red\",\"blue\",\"yellow\",\"orange\"]\n",
        "\n",
        "clusters = {}\n",
        "\n",
        "for i in range(k):\n",
        "    center = 10*(2*np.random.random((X.shape[1],))-1)\n",
        "    points = []\n",
        "    \n",
        "    cluster = {\n",
        "        'center':center,\n",
        "        'points':points,\n",
        "        'color': color[i]\n",
        "        }\n",
        "    \n",
        "    clusters[i] = cluster\n",
        "\n",
        "\n"
      ],
      "execution_count": 25,
      "outputs": []
    },
    {
      "cell_type": "code",
      "metadata": {
        "id": "fxzxXlyy3kGZ"
      },
      "source": [
        "#center = 10*(2*np.random.random((X.shape[1],))-1)\n",
        "#print(center)"
      ],
      "execution_count": 26,
      "outputs": []
    },
    {
      "cell_type": "code",
      "metadata": {
        "id": "6uaVSPNH3kGZ"
      },
      "source": [
        "#clusters"
      ],
      "execution_count": 27,
      "outputs": []
    },
    {
      "cell_type": "code",
      "metadata": {
        "id": "i1SgezQw3kGZ"
      },
      "source": [
        "def distance(v1,v2):\n",
        "    return np.sqrt(np.sum((v1-v2)**2))"
      ],
      "execution_count": 28,
      "outputs": []
    },
    {
      "cell_type": "code",
      "metadata": {
        "id": "X5vEG6La3kGa"
      },
      "source": [
        "\n",
        "# Assign every data point to one of the clusters\n",
        "def assignPointToClusters(clusters): \n",
        "    for ix in range(X.shape[0]):\n",
        "        dist = []\n",
        "        curr_x = X[ix]\n",
        "\n",
        "        for kx in range(k):\n",
        "            d = distance(curr_x,clusters[kx]['center'])\n",
        "            dist.append(d)\n",
        "\n",
        "        current_cluster = np.argmin(dist)    \n",
        "        clusters[current_cluster]['points'].append(curr_x)\n",
        "        \n",
        "def updateClusters(clusters): #We update every cluster center according to the mean of the points in it\n",
        "    for kx in range(k):\n",
        "        pts = np.array(clusters[kx]['points'])\n",
        "        \n",
        "        if pts.shape[0]>0: #If a cluster has some-nonzero points\n",
        "            new_u = pts.mean(axis=0)\n",
        "            clusters[kx]['center'] = new_u\n",
        "            clusters[kx]['points'] = [] #Clear the list \n",
        "        else:\n",
        "          pass\n",
        "                    \n",
        "    \n",
        "\n",
        "def plotClusters(clusters):\n",
        "    \n",
        "    for kx in range(k):\n",
        "        #print(len(clusters[kx]['points']))\n",
        "        \n",
        "        pts = np.array(clusters[kx]['points'])\n",
        "        #print(pts.shape)\n",
        "        \n",
        "        #Plot the points\n",
        "        try:\n",
        "            plt.scatter(pts[:,0],pts[:,1],color=clusters[kx]['color'])\n",
        "        except:\n",
        "            pass\n",
        "        \n",
        "        #Plot the cluster center\n",
        "        uk = clusters[kx]['center']\n",
        "        plt.scatter(uk[0],uk[1],color=\"black\",marker=\"*\")\n",
        "   \n",
        "    "
      ],
      "execution_count": 29,
      "outputs": []
    },
    {
      "cell_type": "code",
      "metadata": {
        "colab": {
          "base_uri": "https://localhost:8080/",
          "height": 265
        },
        "id": "G-UTgGQM3kGa",
        "outputId": "761127f7-0e67-47af-89c1-6ca18ede049c"
      },
      "source": [
        "plotClusters(clusters)"
      ],
      "execution_count": 30,
      "outputs": [
        {
          "output_type": "display_data",
          "data": {
            "image/png": "[encoded data removed]",
            "text/plain": [
              "<Figure size 432x288 with 1 Axes>"
            ]
          },
          "metadata": {
            "tags": [],
            "needs_background": "light"
          }
        }
      ]
    },
    {
      "cell_type": "code",
      "metadata": {
        "colab": {
          "base_uri": "https://localhost:8080/",
          "height": 265
        },
        "id": "qEqqoKeP3kGb",
        "outputId": "f46d7f35-0821-45c6-9ebf-d6d42418bb6d"
      },
      "source": [
        "for i in range(10):\n",
        "  assignPointToClusters(clusters)\n",
        "  plotClusters(clusters)\n",
        "  updateClusters(clusters)"
      ],
      "execution_count": 31,
      "outputs": [
        {
          "output_type": "display_data",
          "data": {
            "image/png": "[encoded data removed]",
            "text/plain": [
              "<Figure size 432x288 with 1 Axes>"
            ]
          },
          "metadata": {
            "tags": [],
            "needs_background": "light"
          }
        }
      ]
    },
    {
      "cell_type": "code",
      "metadata": {
        "colab": {
          "base_uri": "https://localhost:8080/",
          "height": 265
        },
        "id": "xs2_kLgO3kGb",
        "outputId": "9d0adf93-ff98-4e56-c267-f0578dccea1f"
      },
      "source": [
        "for i in range(100):\n",
        "  assignPointToClusters(clusters)\n",
        "  plotClusters(clusters)\n",
        "  updateClusters(clusters)  "
      ],
      "execution_count": 32,
      "outputs": [
        {
          "output_type": "display_data",
          "data": {
            "image/png": "[encoded data removed]",
            "text/plain": [
              "<Figure size 432x288 with 1 Axes>"
            ]
          },
          "metadata": {
            "tags": [],
            "needs_background": "light"
          }
        }
      ]
    },
    {
      "cell_type": "code",
      "metadata": {
        "id": "-EZRKN9o38--"
      },
      "source": [
        "\n",
        "#the black point denotes where the sum of distance from all the points in a given cluster id minimum."
      ],
      "execution_count": 21,
      "outputs": []
    },
    {
      "cell_type": "code",
      "metadata": {
        "id": "W0rWpRDH4mt7"
      },
      "source": [
        ""
      ],
      "execution_count": null,
      "outputs": []
    }
  ]
}